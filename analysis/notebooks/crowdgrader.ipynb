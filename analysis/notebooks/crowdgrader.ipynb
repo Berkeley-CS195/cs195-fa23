{
 "cells": [
  {
   "cell_type": "code",
   "execution_count": null,
   "id": "1780e862-89c6-4932-9666-9e07280a8772",
   "metadata": {},
   "outputs": [],
   "source": [
    "%load_ext autoreload\n",
    "%autoreload 2"
   ]
  },
  {
   "cell_type": "markdown",
   "id": "368d73f9-63fd-425f-a730-7e61b0558b38",
   "metadata": {},
   "source": [
    "### Handle imports."
   ]
  },
  {
   "cell_type": "code",
   "execution_count": null,
   "id": "32001287-2911-4aea-a286-ec90a5f4bbda",
   "metadata": {},
   "outputs": [],
   "source": [
    "# Allow parent-directory imports.\n",
    "import sys\n",
    "sys.path.insert(0, '..')\n",
    "\n",
    "import os\n",
    "from utils.loaders import get_crowdgrader_json\n",
    "from utils.crowdgrader import process_crowdgrader\n",
    "from utils.constants import ESSAY_1_CROWD_FILE as essay_1_f, ESSAY_2_CROWD_FILE as essay_2_f\n",
    "\n",
    "# Increase pandas rows to display more rows.\n",
    "import pandas as pd\n",
    "pd.set_option('display.max_rows', 1000)\n",
    "pd.set_option('display.max_columns', 1000)\n",
    "pd.set_option('display.max_colwidth', 1000)"
   ]
  },
  {
   "cell_type": "markdown",
   "id": "b0a23b39-c186-49f4-83db-7935f0b473d7",
   "metadata": {
    "tags": []
   },
   "source": [
    "### Preprocess Crowdgrader files."
   ]
  },
  {
   "cell_type": "markdown",
   "id": "73135ef7-b202-434f-b8d5-0f3c7a25d4e7",
   "metadata": {},
   "source": [
    "### Process Essay 1."
   ]
  },
  {
   "cell_type": "code",
   "execution_count": null,
   "id": "6fa5c55a-fdc4-4612-ad6b-92836a7d6329",
   "metadata": {},
   "outputs": [],
   "source": [
    "df_1 = get_crowdgrader_json(essay_1_f)\n",
    "df_1 = process_crowdgrader(df_1)"
   ]
  },
  {
   "cell_type": "code",
   "execution_count": null,
   "id": "fe087a75-a80e-49a7-80a8-972572618dbb",
   "metadata": {},
   "outputs": [],
   "source": [
    "# Save the output.\n",
    "output_f_1 = os.path.join('..', 'data', 'essay_1.xlsx')\n",
    "df_1.to_excel(output_f_1, index=False)"
   ]
  },
  {
   "cell_type": "markdown",
   "id": "6d092468-a309-4b69-b26f-90a02b921f83",
   "metadata": {},
   "source": [
    "### Process Essay 2."
   ]
  },
  {
   "cell_type": "code",
   "execution_count": null,
   "id": "7099bb9a-3dd0-4393-bf08-0e88ada46383",
   "metadata": {},
   "outputs": [],
   "source": [
    "df_2 = load_crowdgrader(essay_2_f)\n",
    "df_2 = process_crowdgrader(df_2)"
   ]
  },
  {
   "cell_type": "code",
   "execution_count": null,
   "id": "0adcf692-12f0-4ac3-92e4-335ca70e3004",
   "metadata": {},
   "outputs": [],
   "source": [
    "# Save the output.\n",
    "output_f_2 = os.path.join('..', 'data', 'essay_2.xlsx')\n",
    "df_2.to_excel(output_f_2, index=False)"
   ]
  },
  {
   "cell_type": "markdown",
   "id": "90ed2568-51d9-4885-984a-c276eeb49cfd",
   "metadata": {},
   "source": [
    "### Observe results."
   ]
  },
  {
   "cell_type": "code",
   "execution_count": null,
   "id": "dda6d16c-cf2f-43e4-81c7-5849f480b225",
   "metadata": {},
   "outputs": [],
   "source": [
    "for x in df_1[df_1.Submission.isna()]['User email'].tolist():\n",
    "    print(x)"
   ]
  },
  {
   "cell_type": "code",
   "execution_count": null,
   "id": "8b31700c-fe4d-48ff-9b9c-e1637d1adf85",
   "metadata": {},
   "outputs": [],
   "source": [
    "for x in df_2[df_2.Submission.isna()]['User email'].tolist():\n",
    "    print(x)"
   ]
  }
 ],
 "metadata": {
  "kernelspec": {
   "display_name": "Python 3 (ipykernel)",
   "language": "python",
   "name": "python3"
  },
  "language_info": {
   "codemirror_mode": {
    "name": "ipython",
    "version": 3
   },
   "file_extension": ".py",
   "mimetype": "text/x-python",
   "name": "python",
   "nbconvert_exporter": "python",
   "pygments_lexer": "ipython3",
   "version": "3.9.7"
  }
 },
 "nbformat": 4,
 "nbformat_minor": 5
}
