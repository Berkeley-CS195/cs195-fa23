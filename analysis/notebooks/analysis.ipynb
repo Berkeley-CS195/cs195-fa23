{
 "cells": [
  {
   "cell_type": "code",
   "execution_count": null,
   "metadata": {},
   "outputs": [],
   "source": [
    "%load_ext autoreload\n",
    "%autoreload 2"
   ]
  },
  {
   "cell_type": "markdown",
   "metadata": {
    "tags": []
   },
   "source": [
    "### Handle imports."
   ]
  },
  {
   "cell_type": "code",
   "execution_count": null,
   "metadata": {},
   "outputs": [],
   "source": [
    "# Allow parent-directory imports.\n",
    "import sys\n",
    "sys.path.insert(0, '..')\n",
    "\n",
    "from pathlib import Path\n",
    "from utils.analysis import process_sheets, process_makeup_sheets, process_essays, process_essay_makeup_sheets\n",
    "from utils.helpers import count_completes, determine_pass\n",
    "from utils.loaders import *\n",
    "from utils.constants import *\n",
    "\n",
    "# Increase pandas rows to display more rows.\n",
    "import pandas as pd\n",
    "pd.set_option('display.max_rows', 1000)\n",
    "pd.set_option('display.max_columns', 1000)\n",
    "pd.set_option('display.max_colwidth', 1000)"
   ]
  },
  {
   "cell_type": "code",
   "execution_count": null,
   "metadata": {},
   "outputs": [],
   "source": [
    "# Load roster. Drop/add students as needed.\n",
    "df = get_roster()"
   ]
  },
  {
   "cell_type": "code",
   "execution_count": null,
   "metadata": {},
   "outputs": [],
   "source": [
    "# Load sheets.\n",
    "attendance_sheets = get_attendances()\n",
    "survey_sheets = get_surveys()\n",
    "makeup_sheets = get_makeups()\n",
    "essay_sheets = get_essays()\n",
    "makeup_essay_sheets = get_makeup_essays()"
   ]
  },
  {
   "cell_type": "markdown",
   "metadata": {
    "tags": []
   },
   "source": [
    "### Process sheets."
   ]
  },
  {
   "cell_type": "code",
   "execution_count": null,
   "metadata": {},
   "outputs": [],
   "source": [
    "# Everyone gets attendance and survey points for the first lecture.\n",
    "df['Attendance (08/25) Status'] = 'Complete'\n",
    "\n",
    "df = process_sheets(attendance_sheets, form_name='Attendance', reference_time=(ATTEND_HR, ATTEND_MN), df=df)"
   ]
  },
  {
   "cell_type": "code",
   "execution_count": null,
   "metadata": {},
   "outputs": [],
   "source": [
    "# Everyone gets attendance and survey points for the first lecture.\n",
    "df['Survey (08/25) Status'] = 'Complete'\n",
    "   \n",
    "df = process_sheets(survey_sheets, form_name='Survey', reference_time=(SURVEY_HR, SURVEY_MN), df=df)"
   ]
  },
  {
   "cell_type": "markdown",
   "metadata": {},
   "source": [
    "### Process make-up assignments for attendance and surveys."
   ]
  },
  {
   "cell_type": "code",
   "execution_count": null,
   "metadata": {},
   "outputs": [],
   "source": [
    "# Quick fix for those who answered the make-up assignment to have it also appear for the attendance for the two early lectures.\n",
    "condition_1 = (df['Survey (08/31) Status'] == 'Complete (Make-up Question Answered)') & (df['Attendance (09/01) Status'] == '*Missing*')\n",
    "df.loc[condition_1, 'Attendance (09/01) Status'] = 'Complete (Make-up Question Answered)'\n",
    "\n",
    "condition_2 = (df['Survey (09/06) Status'] == 'Complete (Make-up Question Answered)') & (df['Attendance (09/08) Status'] == '*Missing*')\n",
    "df.loc[condition_2, 'Attendance (09/08) Status'] = 'Complete (Make-up Question Answered)'"
   ]
  },
  {
   "cell_type": "code",
   "execution_count": null,
   "metadata": {},
   "outputs": [],
   "source": [
    "df = process_makeup_sheets(makeup_sheets, df)"
   ]
  },
  {
   "cell_type": "markdown",
   "metadata": {},
   "source": [
    "### Process essays."
   ]
  },
  {
   "cell_type": "code",
   "execution_count": null,
   "metadata": {},
   "outputs": [],
   "source": [
    "df = process_essays(essay_sheets, df)"
   ]
  },
  {
   "cell_type": "markdown",
   "metadata": {},
   "source": [
    "### Process makeup essays."
   ]
  },
  {
   "cell_type": "code",
   "execution_count": null,
   "metadata": {},
   "outputs": [],
   "source": [
    "df = process_essay_makeup_sheets(makeup_essay_sheets, df)"
   ]
  },
  {
   "cell_type": "markdown",
   "metadata": {},
   "source": [
    "### Manual adjustments."
   ]
  },
  {
   "cell_type": "code",
   "execution_count": null,
   "metadata": {},
   "outputs": [],
   "source": [
    "# As necessary..."
   ]
  },
  {
   "cell_type": "markdown",
   "metadata": {},
   "source": [
    "### Add \"Completeness\" columns."
   ]
  },
  {
   "cell_type": "code",
   "execution_count": null,
   "metadata": {},
   "outputs": [],
   "source": [
    "df['Attendance Count'] = df.apply(lambda x: count_completes(x[ATTENDANCE_COLS]), axis=1)\n",
    "df['Attendance'] = df['Attendance Count'].apply(lambda x: determine_pass(x, 'Attendance'))\n",
    "\n",
    "df['Survey Count'] = df.apply(lambda x: count_completes(x[SURVEY_COLS]), axis=1)\n",
    "df['Survey'] = df['Survey Count'].apply(lambda x: determine_pass(x, 'Survey'))\n",
    "\n",
    "df['All Requirements Count'] =  df.apply(lambda x: count_completes(x[CLASS_REQS]), axis=1)\n",
    "df['All Requirements'] = df['All Requirements Count'].apply(lambda x: determine_pass(x, 'Class'))"
   ]
  },
  {
   "cell_type": "markdown",
   "metadata": {},
   "source": [
    "### Observe the results."
   ]
  },
  {
   "cell_type": "code",
   "execution_count": null,
   "metadata": {},
   "outputs": [],
   "source": [
    "# Any queries can be run here.\n",
    "df"
   ]
  },
  {
   "cell_type": "markdown",
   "metadata": {},
   "source": [
    "### Save results. (change as needed)"
   ]
  },
  {
   "cell_type": "code",
   "execution_count": null,
   "metadata": {},
   "outputs": [],
   "source": [
    "# Save the master spreadsheet.\n",
    "output_f = os.path.join('..', 'output', 'submissions.xlsx')\n",
    "df.to_excel(output_f, index=False)"
   ]
  },
  {
   "cell_type": "code",
   "execution_count": null,
   "metadata": {},
   "outputs": [],
   "source": [
    "# Only include complete/incomplete columns.\n",
    "df = df[['Student ID'] + ATTENDANCE_COLS + SURVEY_COLS + ESSAY_COLS]\n",
    "\n",
    "# Save individual files.\n",
    "full_output_dir = os.path.join('output', 'Individual Records')\n",
    "for idx, row in df.iterrows():\n",
    "    student_s = row.copy()\n",
    "    SID = student_s['Student ID'] \n",
    "    \n",
    "    # Create folder for the individual student.\n",
    "    student_dir = os.path.join(full_output_dir, '{}_CS195'.format(SID))\n",
    "    Path(student_dir).mkdir(parents=True, exist_ok=True)\n",
    "\n",
    "    # Write the Series to csv.\n",
    "    output_f = os.path.join(student_dir, 'records_{}.csv'.format('12_07'))\n",
    "    student_s.to_csv(output_f, header=False)"
   ]
  }
 ],
 "metadata": {
  "kernelspec": {
   "display_name": "Python 3 (ipykernel)",
   "language": "python",
   "name": "python3"
  },
  "language_info": {
   "codemirror_mode": {
    "name": "ipython",
    "version": 3
   },
   "file_extension": ".py",
   "mimetype": "text/x-python",
   "name": "python",
   "nbconvert_exporter": "python",
   "pygments_lexer": "ipython3",
   "version": "3.9.7"
  }
 },
 "nbformat": 4,
 "nbformat_minor": 4
}
